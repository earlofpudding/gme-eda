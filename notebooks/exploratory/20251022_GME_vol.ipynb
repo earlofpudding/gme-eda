{
 "cells": [
  {
   "cell_type": "code",
   "id": "initial_id",
   "metadata": {
    "collapsed": true,
    "ExecuteTime": {
     "end_time": "2025-10-23T19:41:33.846786Z",
     "start_time": "2025-10-23T19:41:31.066949Z"
    }
   },
   "source": [
    "from nodejs_wheel import corepack\n",
    "# This notebook is going to explore the evolution of volatility across GME\n",
    "%pip install pyarrow\n",
    "%pip install clickhouse_connect"
   ],
   "outputs": [
    {
     "name": "stdout",
     "output_type": "stream",
     "text": [
      "Requirement already satisfied: pyarrow in c:\\users\\rafaq\\desktop\\ieso\\venv\\lib\\site-packages (21.0.0)\n",
      "Note: you may need to restart the kernel to use updated packages.\n"
     ]
    },
    {
     "name": "stderr",
     "output_type": "stream",
     "text": [
      "\n",
      "[notice] A new release of pip available: 22.2.1 -> 25.2\n",
      "[notice] To update, run: python.exe -m pip install --upgrade pip\n"
     ]
    },
    {
     "name": "stdout",
     "output_type": "stream",
     "text": [
      "Requirement already satisfied: clickhouse_connect in c:\\users\\rafaq\\desktop\\ieso\\venv\\lib\\site-packages (0.9.2)\n",
      "Requirement already satisfied: certifi in c:\\users\\rafaq\\desktop\\ieso\\venv\\lib\\site-packages (from clickhouse_connect) (2025.10.5)\n",
      "Requirement already satisfied: urllib3>=1.26 in c:\\users\\rafaq\\desktop\\ieso\\venv\\lib\\site-packages (from clickhouse_connect) (2.5.0)\n",
      "Requirement already satisfied: lz4 in c:\\users\\rafaq\\desktop\\ieso\\venv\\lib\\site-packages (from clickhouse_connect) (4.4.4)\n",
      "Requirement already satisfied: pytz in c:\\users\\rafaq\\desktop\\ieso\\venv\\lib\\site-packages (from clickhouse_connect) (2025.2)\n",
      "Requirement already satisfied: zstandard in c:\\users\\rafaq\\desktop\\ieso\\venv\\lib\\site-packages (from clickhouse_connect) (0.25.0)\n",
      "Note: you may need to restart the kernel to use updated packages.\n"
     ]
    },
    {
     "name": "stderr",
     "output_type": "stream",
     "text": [
      "\n",
      "[notice] A new release of pip available: 22.2.1 -> 25.2\n",
      "[notice] To update, run: python.exe -m pip install --upgrade pip\n"
     ]
    }
   ],
   "execution_count": 1097
  },
  {
   "metadata": {
    "ExecuteTime": {
     "end_time": "2025-10-23T19:41:33.862448Z",
     "start_time": "2025-10-23T19:41:33.849791Z"
    }
   },
   "cell_type": "code",
   "source": [
    "import clickhouse_connect\n",
    "import pandas as pd\n",
    "import seaborn as sns\n",
    "import matplotlib.pyplot as plt\n",
    "import numpy as np"
   ],
   "id": "6f3d72032ce46a63",
   "outputs": [],
   "execution_count": 1098
  },
  {
   "metadata": {
    "ExecuteTime": {
     "end_time": "2025-10-23T19:41:35.573719Z",
     "start_time": "2025-10-23T19:41:33.865449Z"
    }
   },
   "cell_type": "code",
   "source": "client = clickhouse_connect.get_client(host=\"clickhouse.icc\", port=8123, username=\"default\", password=\"\")",
   "id": "17baf030658b4ee8",
   "outputs": [
    {
     "name": "stderr",
     "output_type": "stream",
     "text": [
      "local timezone Mountain Daylight Time may return unexpected times due to Daylight Savings Time/Summer Time differences\n"
     ]
    }
   ],
   "execution_count": 1099
  },
  {
   "metadata": {
    "ExecuteTime": {
     "end_time": "2025-10-23T19:41:39.734790Z",
     "start_time": "2025-10-23T19:41:35.579369Z"
    }
   },
   "cell_type": "code",
   "source": "trades = client.query_df(\"SELECT * FROM trades_historic.gme\")",
   "id": "342542c523ebd014",
   "outputs": [],
   "execution_count": 1100
  },
  {
   "metadata": {
    "ExecuteTime": {
     "end_time": "2025-10-23T19:41:40.149385Z",
     "start_time": "2025-10-23T19:41:39.739792Z"
    }
   },
   "cell_type": "code",
   "source": [
    "import pytz\n",
    "\n",
    "tz = pytz.timezone('Europe/Rome')\n",
    "\n",
    "trades[\"price\"] = trades[\"price\"].astype(float)\n",
    "trades[\"timestamp\"] = pd.to_datetime(trades[\"timestamp\"], utc=True)\n",
    "trades = trades.set_index(\"timestamp\")\n",
    "trades = trades.tz_convert(tz)\n",
    "\n",
    "trades.info()"
   ],
   "id": "4c466f25d2e26ae4",
   "outputs": [
    {
     "name": "stdout",
     "output_type": "stream",
     "text": [
      "<class 'pandas.core.frame.DataFrame'>\n",
      "DatetimeIndex: 1347040 entries, 2024-08-19 08:25:51+02:00 to 2025-07-22 00:00:34+02:00\n",
      "Data columns (total 8 columns):\n",
      " #   Column      Non-Null Count    Dtype         \n",
      "---  ------      --------------    -----         \n",
      " 0   id          1347040 non-null  int32         \n",
      " 1   buysell     1347040 non-null  string        \n",
      " 2   status      1347040 non-null  string        \n",
      " 3   marketcode  1347040 non-null  string        \n",
      " 4   flowdate    1347040 non-null  datetime64[ns]\n",
      " 5   quantity    1347040 non-null  uint32        \n",
      " 6   price       1347040 non-null  float64       \n",
      " 7   operator    1347040 non-null  string        \n",
      "dtypes: datetime64[ns](1), float64(1), int32(1), string(4), uint32(1)\n",
      "memory usage: 82.2 MB\n"
     ]
    }
   ],
   "execution_count": 1101
  },
  {
   "metadata": {
    "ExecuteTime": {
     "end_time": "2025-10-23T19:41:40.365923Z",
     "start_time": "2025-10-23T19:41:40.153386Z"
    }
   },
   "cell_type": "code",
   "source": [
    "# Get the mean for price traded within that period\n",
    "trades_resampled = trades[\"price\"].resample(\"30min\").mean()\n",
    "trades_resampled = trades_resampled.ffill()\n",
    "returns = trades_resampled.pct_change()\n",
    "trades = trades.reset_index()"
   ],
   "id": "63fd2c604bd3c4aa",
   "outputs": [],
   "execution_count": 1102
  },
  {
   "metadata": {
    "ExecuteTime": {
     "end_time": "2025-10-23T19:41:42.047525Z",
     "start_time": "2025-10-23T19:41:40.370924Z"
    }
   },
   "cell_type": "code",
   "source": [
    "returns.plot()\n",
    "plt.ylabel(\"Pct. Returns\")"
   ],
   "id": "b50746c7e7c9d5d8",
   "outputs": [
    {
     "data": {
      "text/plain": [
       "Text(0, 0.5, 'Pct. Returns')"
      ]
     },
     "execution_count": 1103,
     "metadata": {},
     "output_type": "execute_result"
    },
    {
     "data": {
      "text/plain": [
       "<Figure size 640x480 with 1 Axes>"
      ],
      "image/png": "[encoded data removed]"
     },
     "metadata": {},
     "output_type": "display_data",
     "jetTransient": {
      "display_id": null
     }
    }
   ],
   "execution_count": 1103
  },
  {
   "metadata": {
    "ExecuteTime": {
     "end_time": "2025-10-23T19:41:42.366973Z",
     "start_time": "2025-10-23T19:41:42.054525Z"
    }
   },
   "cell_type": "code",
   "source": [
    "# 30d * 48 (30min sections) / d\n",
    "# Assume 10 holidays per year for trading\n",
    "vol = returns.rolling(window=30*48).std() * np.sqrt(355)\n",
    "\n",
    "plt.title(\"30-d Rolling Volatility\")\n",
    "# Get volatility for 2025\n",
    "vol2024 = vol[vol.index >= pd.to_datetime(\"2024-01-01\", utc=True)]\n",
    "\n",
    "sns.lineplot(vol2024 * 100)\n",
    "\n",
    "plt.xticks(rotation=90)\n",
    "plt.locator_params(axis='y', nbins=15)\n",
    "\n",
    "plt.xlabel(\"Date\")\n",
    "plt.ylabel(\"Annualized Volatility %\")"
   ],
   "id": "17a761650e11b767",
   "outputs": [
    {
     "data": {
      "text/plain": [
       "Text(0, 0.5, 'Annualized Volatility %')"
      ]
     },
     "execution_count": 1104,
     "metadata": {},
     "output_type": "execute_result"
    },
    {
     "data": {
      "text/plain": [
       "<Figure size 640x480 with 1 Axes>"
      ],
      "image/png": "[encoded data removed]"
     },
     "metadata": {},
     "output_type": "display_data",
     "jetTransient": {
      "display_id": null
     }
    }
   ],
   "execution_count": 1104
  },
  {
   "metadata": {
    "ExecuteTime": {
     "end_time": "2025-10-23T19:41:43.863932Z",
     "start_time": "2025-10-23T19:41:42.369838Z"
    }
   },
   "cell_type": "code",
   "source": [
    "# Load AGS data\n",
    "ags = client.query_df(\"SELECT * FROM trades_historic.gme_ags\")"
   ],
   "id": "dadf98ceec428a27",
   "outputs": [],
   "execution_count": 1105
  },
  {
   "metadata": {
    "ExecuteTime": {
     "end_time": "2025-10-23T19:41:43.909396Z",
     "start_time": "2025-10-23T19:41:43.875659Z"
    }
   },
   "cell_type": "code",
   "source": [
    "ags['timestamp'] = pd.to_datetime(ags['timestamp'], utc=True)\n",
    "ags['price'] = ags['price'].astype(float)\n",
    "ags.info()"
   ],
   "id": "7726cd55788f40b",
   "outputs": [
    {
     "name": "stdout",
     "output_type": "stream",
     "text": [
      "<class 'pandas.core.frame.DataFrame'>\n",
      "RangeIndex: 39637 entries, 0 to 39636\n",
      "Data columns (total 9 columns):\n",
      " #   Column      Non-Null Count  Dtype              \n",
      "---  ------      --------------  -----              \n",
      " 0   id          39637 non-null  int32              \n",
      " 1   buysell     39637 non-null  string             \n",
      " 2   status      39637 non-null  string             \n",
      " 3   timestamp   39637 non-null  datetime64[ns, UTC]\n",
      " 4   marketcode  39637 non-null  string             \n",
      " 5   flowdate    39637 non-null  datetime64[ns]     \n",
      " 6   quantity    39637 non-null  uint32             \n",
      " 7   price       39637 non-null  float64            \n",
      " 8   operator    39637 non-null  string             \n",
      "dtypes: datetime64[ns, UTC](1), datetime64[ns](1), float64(1), int32(1), string(4), uint32(1)\n",
      "memory usage: 2.4 MB\n"
     ]
    }
   ],
   "execution_count": 1106
  },
  {
   "metadata": {
    "ExecuteTime": {
     "end_time": "2025-10-23T19:41:43.939757Z",
     "start_time": "2025-10-23T19:41:43.917305Z"
    }
   },
   "cell_type": "code",
   "source": [
    "# SELECT ONLY MGP (day ahead products)\n",
    "ags_da = ags[(ags[\"marketcode\"] == \"MGP-ASTA\") & (ags['buysell'] == \"S\")]"
   ],
   "id": "f3d50d371ff549d9",
   "outputs": [],
   "execution_count": 1107
  },
  {
   "metadata": {
    "ExecuteTime": {
     "end_time": "2025-10-23T19:41:43.972666Z",
     "start_time": "2025-10-23T19:41:43.950758Z"
    }
   },
   "cell_type": "code",
   "source": "ags_da[ags_da[\"operator\"] != \"SRG TSO\"][\"operator\"].value_counts().head(20)",
   "id": "b3aeb4532aa36b77",
   "outputs": [
    {
     "data": {
      "text/plain": [
       "operator\n",
       "ENGIE ITALIA SPA                     1982\n",
       "ENEL GLOBAL TRADING SPA              1960\n",
       "Energi Danmark A/S                   1900\n",
       "DANSKE COMMODITIES A/S               1852\n",
       "ELECTRADE S.P.A.                     1751\n",
       "ENET ENERGY SA                       1398\n",
       "UTILITA' S.P.A.                      1184\n",
       "DUFERCO Energia S.p.A.               1119\n",
       "ERTENERGY OÜ                          927\n",
       "NITOR ENERGY A/S                      860\n",
       "ECO SVILUPPO SRL                      819\n",
       "MFT ENERGY A/S                        764\n",
       "ENI GLOBAL ENERGY MARKETS SPA         664\n",
       "BKW ENERGIE AG                        619\n",
       "GREEN NETWORK S.P.A.                  544\n",
       "INTERCONTINENTAL COMMODITIES FZCO     541\n",
       "BLUENERGY GROUP SPA                   511\n",
       "COBBLESTONE ENERGY DMCC               510\n",
       "REPOWER ITALIA SPA                    446\n",
       "CENTREX ITALIA SPA                    390\n",
       "Name: count, dtype: Int64"
      ]
     },
     "execution_count": 1108,
     "metadata": {},
     "output_type": "execute_result"
    }
   ],
   "execution_count": 1108
  },
  {
   "metadata": {
    "ExecuteTime": {
     "end_time": "2025-10-23T19:41:44.013870Z",
     "start_time": "2025-10-23T19:41:43.999388Z"
    }
   },
   "cell_type": "code",
   "source": [
    "ags_cols = ['buysell', 'flowdate', 'quantity', 'price']\n",
    "ags_da = ags_da.groupby(\"flowdate\").last()"
   ],
   "id": "927719e0eb52871e",
   "outputs": [],
   "execution_count": 1109
  },
  {
   "metadata": {
    "ExecuteTime": {
     "end_time": "2025-10-23T19:41:45.384441Z",
     "start_time": "2025-10-23T19:41:44.017077Z"
    }
   },
   "cell_type": "code",
   "source": [
    "# Get the average clearing price based on flow date for DA markets\n",
    "trades_da_settlement_vwap = trades[((trades['flowdate'].dt.date - trades['timestamp'].dt.date) == pd.to_timedelta(1, unit='D'))]"
   ],
   "id": "833a852b7e587993",
   "outputs": [],
   "execution_count": 1110
  },
  {
   "metadata": {
    "ExecuteTime": {
     "end_time": "2025-10-23T19:41:45.412251Z",
     "start_time": "2025-10-23T19:41:45.387442Z"
    }
   },
   "cell_type": "code",
   "source": "trades_da_settlement_vwap = trades_da_settlement_vwap.set_index(\"timestamp\")",
   "id": "866a652c1785e823",
   "outputs": [],
   "execution_count": 1111
  },
  {
   "metadata": {
    "ExecuteTime": {
     "end_time": "2025-10-23T19:41:45.465762Z",
     "start_time": "2025-10-23T19:41:45.412251Z"
    }
   },
   "cell_type": "code",
   "source": [
    "# Get trades within settlement window of 1715 to 1745\n",
    "trades_da_settlement_vwap = trades_da_settlement_vwap.between_time(\"1715\", \"1745\")"
   ],
   "id": "7938bd71bbcc3f86",
   "outputs": [],
   "execution_count": 1112
  },
  {
   "metadata": {
    "ExecuteTime": {
     "end_time": "2025-10-23T19:41:45.678279Z",
     "start_time": "2025-10-23T19:41:45.468313Z"
    }
   },
   "cell_type": "code",
   "source": [
    "trades_da_settlement_vwap = trades_da_settlement_vwap.groupby(\"flowdate\").apply(\n",
    "    lambda x: (x['price'] * x['quantity']).sum() / x['quantity'].sum(),\n",
    "    include_groups = False\n",
    ").reset_index(name='settlement_vwap')"
   ],
   "id": "39adc106ceb51ba3",
   "outputs": [],
   "execution_count": 1113
  },
  {
   "metadata": {
    "ExecuteTime": {
     "end_time": "2025-10-23T19:41:45.693784Z",
     "start_time": "2025-10-23T19:41:45.682784Z"
    }
   },
   "cell_type": "code",
   "source": "trades_da_settlement_vwap",
   "id": "34ff416a4a1d8008",
   "outputs": [
    {
     "data": {
      "text/plain": [
       "       flowdate  settlement_vwap\n",
       "0    2016-10-25        19.100000\n",
       "1    2016-11-12        19.000000\n",
       "2    2016-11-17        22.600000\n",
       "3    2016-12-03        18.700000\n",
       "4    2016-12-13        20.100000\n",
       "...         ...              ...\n",
       "2254 2025-07-17        37.754396\n",
       "2255 2025-07-18        37.813852\n",
       "2256 2025-07-19        36.830379\n",
       "2257 2025-07-20        36.700000\n",
       "2258 2025-07-22        37.683842\n",
       "\n",
       "[2259 rows x 2 columns]"
      ],
      "text/html": [
       "<div>\n",
       "<style scoped>\n",
       "    .dataframe tbody tr th:only-of-type {\n",
       "        vertical-align: middle;\n",
       "    }\n",
       "\n",
       "    .dataframe tbody tr th {\n",
       "        vertical-align: top;\n",
       "    }\n",
       "\n",
       "    .dataframe thead th {\n",
       "        text-align: right;\n",
       "    }\n",
       "</style>\n",
       "<table border=\"1\" class=\"dataframe\">\n",
       "  <thead>\n",
       "    <tr style=\"text-align: right;\">\n",
       "      <th></th>\n",
       "      <th>flowdate</th>\n",
       "      <th>settlement_vwap</th>\n",
       "    </tr>\n",
       "  </thead>\n",
       "  <tbody>\n",
       "    <tr>\n",
       "      <th>0</th>\n",
       "      <td>2016-10-25</td>\n",
       "      <td>19.100000</td>\n",
       "    </tr>\n",
       "    <tr>\n",
       "      <th>1</th>\n",
       "      <td>2016-11-12</td>\n",
       "      <td>19.000000</td>\n",
       "    </tr>\n",
       "    <tr>\n",
       "      <th>2</th>\n",
       "      <td>2016-11-17</td>\n",
       "      <td>22.600000</td>\n",
       "    </tr>\n",
       "    <tr>\n",
       "      <th>3</th>\n",
       "      <td>2016-12-03</td>\n",
       "      <td>18.700000</td>\n",
       "    </tr>\n",
       "    <tr>\n",
       "      <th>4</th>\n",
       "      <td>2016-12-13</td>\n",
       "      <td>20.100000</td>\n",
       "    </tr>\n",
       "    <tr>\n",
       "      <th>...</th>\n",
       "      <td>...</td>\n",
       "      <td>...</td>\n",
       "    </tr>\n",
       "    <tr>\n",
       "      <th>2254</th>\n",
       "      <td>2025-07-17</td>\n",
       "      <td>37.754396</td>\n",
       "    </tr>\n",
       "    <tr>\n",
       "      <th>2255</th>\n",
       "      <td>2025-07-18</td>\n",
       "      <td>37.813852</td>\n",
       "    </tr>\n",
       "    <tr>\n",
       "      <th>2256</th>\n",
       "      <td>2025-07-19</td>\n",
       "      <td>36.830379</td>\n",
       "    </tr>\n",
       "    <tr>\n",
       "      <th>2257</th>\n",
       "      <td>2025-07-20</td>\n",
       "      <td>36.700000</td>\n",
       "    </tr>\n",
       "    <tr>\n",
       "      <th>2258</th>\n",
       "      <td>2025-07-22</td>\n",
       "      <td>37.683842</td>\n",
       "    </tr>\n",
       "  </tbody>\n",
       "</table>\n",
       "<p>2259 rows × 2 columns</p>\n",
       "</div>"
      ]
     },
     "execution_count": 1114,
     "metadata": {},
     "output_type": "execute_result"
    }
   ],
   "execution_count": 1114
  },
  {
   "metadata": {
    "ExecuteTime": {
     "end_time": "2025-10-23T19:41:45.708783Z",
     "start_time": "2025-10-23T19:41:45.697784Z"
    }
   },
   "cell_type": "code",
   "source": "ags_da = ags_da.merge(trades_da_settlement_vwap, on='flowdate', suffixes=('', ''))",
   "id": "49da6e73651a52e",
   "outputs": [],
   "execution_count": 1115
  },
  {
   "metadata": {
    "ExecuteTime": {
     "end_time": "2025-10-23T19:41:45.723784Z",
     "start_time": "2025-10-23T19:41:45.712784Z"
    }
   },
   "cell_type": "code",
   "source": [
    "# Since we are only counting when AGS is selling we care about AGS - SETTLEMENT to get idea of the spread\n",
    "ags_da[\"spread\"] = ags_da[\"price\"] - ags_da[\"settlement_vwap\"]\n",
    "ags_da"
   ],
   "id": "1c11d2bc48a0cbb",
   "outputs": [
    {
     "data": {
      "text/plain": [
       "       flowdate       id buysell status                 timestamp marketcode  \\\n",
       "0    2020-01-01  1093321       S      A 2019-12-31 12:21:28+00:00   MGP-ASTA   \n",
       "1    2020-01-03  1094045       S      A 2020-01-02 12:24:03+00:00   MGP-ASTA   \n",
       "2    2020-01-04  1094582       S      A 2020-01-03 11:33:32+00:00   MGP-ASTA   \n",
       "3    2020-01-07  1095895       S      A 2020-01-06 12:28:13+00:00   MGP-ASTA   \n",
       "4    2020-01-08  1096530       S      A 2020-01-07 12:12:40+00:00   MGP-ASTA   \n",
       "...         ...      ...     ...    ...                       ...        ...   \n",
       "1606 2025-07-17  2606965       S      A 2025-07-16 11:28:14+00:00   MGP-ASTA   \n",
       "1607 2025-07-18  2607961       S      A 2025-07-17 11:29:30+00:00   MGP-ASTA   \n",
       "1608 2025-07-19  2609019       S      A 2025-07-18 11:29:48+00:00   MGP-ASTA   \n",
       "1609 2025-07-20  2610475       S      A 2025-07-19 11:27:39+00:00   MGP-ASTA   \n",
       "1610 2025-07-22  2611813       S      A 2025-07-21 11:29:36+00:00   MGP-ASTA   \n",
       "\n",
       "      quantity   price                operator  settlement_vwap    spread  \n",
       "0         9600  13.750  DUFERCO Energia S.p.A.        12.712500  1.037500  \n",
       "1         1200  13.400      Energi Danmark A/S        12.224359  1.175641  \n",
       "2        23760  12.600                 SRG TSO        13.270833 -0.670833  \n",
       "3         3600  14.180          ENET ENERGY SA        14.623077 -0.443077  \n",
       "4         2400  14.198      Energi Danmark A/S        14.187022  0.010978  \n",
       "...        ...     ...                     ...              ...       ...  \n",
       "1606      1200  37.770          ENET ENERGY SA        37.754396  0.015604  \n",
       "1607      1200  38.150            ERTENERGY OÜ        37.813852  0.336148  \n",
       "1608       120  37.320         UTILITA' S.P.A.        36.830379  0.489621  \n",
       "1609      7200  36.940          MFT ENERGY A/S        36.700000  0.240000  \n",
       "1610      6432  37.860          BKW ENERGIE AG        37.683842  0.176158  \n",
       "\n",
       "[1611 rows x 11 columns]"
      ],
      "text/html": [
       "<div>\n",
       "<style scoped>\n",
       "    .dataframe tbody tr th:only-of-type {\n",
       "        vertical-align: middle;\n",
       "    }\n",
       "\n",
       "    .dataframe tbody tr th {\n",
       "        vertical-align: top;\n",
       "    }\n",
       "\n",
       "    .dataframe thead th {\n",
       "        text-align: right;\n",
       "    }\n",
       "</style>\n",
       "<table border=\"1\" class=\"dataframe\">\n",
       "  <thead>\n",
       "    <tr style=\"text-align: right;\">\n",
       "      <th></th>\n",
       "      <th>flowdate</th>\n",
       "      <th>id</th>\n",
       "      <th>buysell</th>\n",
       "      <th>status</th>\n",
       "      <th>timestamp</th>\n",
       "      <th>marketcode</th>\n",
       "      <th>quantity</th>\n",
       "      <th>price</th>\n",
       "      <th>operator</th>\n",
       "      <th>settlement_vwap</th>\n",
       "      <th>spread</th>\n",
       "    </tr>\n",
       "  </thead>\n",
       "  <tbody>\n",
       "    <tr>\n",
       "      <th>0</th>\n",
       "      <td>2020-01-01</td>\n",
       "      <td>1093321</td>\n",
       "      <td>S</td>\n",
       "      <td>A</td>\n",
       "      <td>2019-12-31 12:21:28+00:00</td>\n",
       "      <td>MGP-ASTA</td>\n",
       "      <td>9600</td>\n",
       "      <td>13.750</td>\n",
       "      <td>DUFERCO Energia S.p.A.</td>\n",
       "      <td>12.712500</td>\n",
       "      <td>1.037500</td>\n",
       "    </tr>\n",
       "    <tr>\n",
       "      <th>1</th>\n",
       "      <td>2020-01-03</td>\n",
       "      <td>1094045</td>\n",
       "      <td>S</td>\n",
       "      <td>A</td>\n",
       "      <td>2020-01-02 12:24:03+00:00</td>\n",
       "      <td>MGP-ASTA</td>\n",
       "      <td>1200</td>\n",
       "      <td>13.400</td>\n",
       "      <td>Energi Danmark A/S</td>\n",
       "      <td>12.224359</td>\n",
       "      <td>1.175641</td>\n",
       "    </tr>\n",
       "    <tr>\n",
       "      <th>2</th>\n",
       "      <td>2020-01-04</td>\n",
       "      <td>1094582</td>\n",
       "      <td>S</td>\n",
       "      <td>A</td>\n",
       "      <td>2020-01-03 11:33:32+00:00</td>\n",
       "      <td>MGP-ASTA</td>\n",
       "      <td>23760</td>\n",
       "      <td>12.600</td>\n",
       "      <td>SRG TSO</td>\n",
       "      <td>13.270833</td>\n",
       "      <td>-0.670833</td>\n",
       "    </tr>\n",
       "    <tr>\n",
       "      <th>3</th>\n",
       "      <td>2020-01-07</td>\n",
       "      <td>1095895</td>\n",
       "      <td>S</td>\n",
       "      <td>A</td>\n",
       "      <td>2020-01-06 12:28:13+00:00</td>\n",
       "      <td>MGP-ASTA</td>\n",
       "      <td>3600</td>\n",
       "      <td>14.180</td>\n",
       "      <td>ENET ENERGY SA</td>\n",
       "      <td>14.623077</td>\n",
       "      <td>-0.443077</td>\n",
       "    </tr>\n",
       "    <tr>\n",
       "      <th>4</th>\n",
       "      <td>2020-01-08</td>\n",
       "      <td>1096530</td>\n",
       "      <td>S</td>\n",
       "      <td>A</td>\n",
       "      <td>2020-01-07 12:12:40+00:00</td>\n",
       "      <td>MGP-ASTA</td>\n",
       "      <td>2400</td>\n",
       "      <td>14.198</td>\n",
       "      <td>Energi Danmark A/S</td>\n",
       "      <td>14.187022</td>\n",
       "      <td>0.010978</td>\n",
       "    </tr>\n",
       "    <tr>\n",
       "      <th>...</th>\n",
       "      <td>...</td>\n",
       "      <td>...</td>\n",
       "      <td>...</td>\n",
       "      <td>...</td>\n",
       "      <td>...</td>\n",
       "      <td>...</td>\n",
       "      <td>...</td>\n",
       "      <td>...</td>\n",
       "      <td>...</td>\n",
       "      <td>...</td>\n",
       "      <td>...</td>\n",
       "    </tr>\n",
       "    <tr>\n",
       "      <th>1606</th>\n",
       "      <td>2025-07-17</td>\n",
       "      <td>2606965</td>\n",
       "      <td>S</td>\n",
       "      <td>A</td>\n",
       "      <td>2025-07-16 11:28:14+00:00</td>\n",
       "      <td>MGP-ASTA</td>\n",
       "      <td>1200</td>\n",
       "      <td>37.770</td>\n",
       "      <td>ENET ENERGY SA</td>\n",
       "      <td>37.754396</td>\n",
       "      <td>0.015604</td>\n",
       "    </tr>\n",
       "    <tr>\n",
       "      <th>1607</th>\n",
       "      <td>2025-07-18</td>\n",
       "      <td>2607961</td>\n",
       "      <td>S</td>\n",
       "      <td>A</td>\n",
       "      <td>2025-07-17 11:29:30+00:00</td>\n",
       "      <td>MGP-ASTA</td>\n",
       "      <td>1200</td>\n",
       "      <td>38.150</td>\n",
       "      <td>ERTENERGY OÜ</td>\n",
       "      <td>37.813852</td>\n",
       "      <td>0.336148</td>\n",
       "    </tr>\n",
       "    <tr>\n",
       "      <th>1608</th>\n",
       "      <td>2025-07-19</td>\n",
       "      <td>2609019</td>\n",
       "      <td>S</td>\n",
       "      <td>A</td>\n",
       "      <td>2025-07-18 11:29:48+00:00</td>\n",
       "      <td>MGP-ASTA</td>\n",
       "      <td>120</td>\n",
       "      <td>37.320</td>\n",
       "      <td>UTILITA' S.P.A.</td>\n",
       "      <td>36.830379</td>\n",
       "      <td>0.489621</td>\n",
       "    </tr>\n",
       "    <tr>\n",
       "      <th>1609</th>\n",
       "      <td>2025-07-20</td>\n",
       "      <td>2610475</td>\n",
       "      <td>S</td>\n",
       "      <td>A</td>\n",
       "      <td>2025-07-19 11:27:39+00:00</td>\n",
       "      <td>MGP-ASTA</td>\n",
       "      <td>7200</td>\n",
       "      <td>36.940</td>\n",
       "      <td>MFT ENERGY A/S</td>\n",
       "      <td>36.700000</td>\n",
       "      <td>0.240000</td>\n",
       "    </tr>\n",
       "    <tr>\n",
       "      <th>1610</th>\n",
       "      <td>2025-07-22</td>\n",
       "      <td>2611813</td>\n",
       "      <td>S</td>\n",
       "      <td>A</td>\n",
       "      <td>2025-07-21 11:29:36+00:00</td>\n",
       "      <td>MGP-ASTA</td>\n",
       "      <td>6432</td>\n",
       "      <td>37.860</td>\n",
       "      <td>BKW ENERGIE AG</td>\n",
       "      <td>37.683842</td>\n",
       "      <td>0.176158</td>\n",
       "    </tr>\n",
       "  </tbody>\n",
       "</table>\n",
       "<p>1611 rows × 11 columns</p>\n",
       "</div>"
      ]
     },
     "execution_count": 1116,
     "metadata": {},
     "output_type": "execute_result"
    }
   ],
   "execution_count": 1116
  },
  {
   "metadata": {
    "ExecuteTime": {
     "end_time": "2025-10-23T19:41:45.802040Z",
     "start_time": "2025-10-23T19:41:45.727784Z"
    }
   },
   "cell_type": "code",
   "source": [
    "# ags_da[ags_da[\"flowdate\"] > pd.to_datetime(\"2024-01-01\")].plot(kind=\"kde\", )\n",
    "ags_da_filtered = ags_da[ags_da[\"flowdate\"] > pd.to_datetime(\"2025-01-01\")]\n",
    "\n",
    "plt.axvline(x=0, color='red', linewidth=1.5, linestyle='-')\n",
    "sns.histplot(ags_da_filtered, x=\"spread\", fill=True)"
   ],
   "id": "97d5992e2cf2a6b3",
   "outputs": [
    {
     "data": {
      "text/plain": [
       "<Axes: xlabel='spread', ylabel='Count'>"
      ]
     },
     "execution_count": 1117,
     "metadata": {},
     "output_type": "execute_result"
    },
    {
     "data": {
      "text/plain": [
       "<Figure size 640x480 with 1 Axes>"
      ],
      "image/png": "[encoded data removed]"
     },
     "metadata": {},
     "output_type": "display_data",
     "jetTransient": {
      "display_id": null
     }
    }
   ],
   "execution_count": 1117
  },
  {
   "metadata": {
    "ExecuteTime": {
     "end_time": "2025-10-23T19:41:45.818040Z",
     "start_time": "2025-10-23T19:41:45.812041Z"
    }
   },
   "cell_type": "code",
   "source": [
    "# Get the probability of the positive spread (sell AGS buy average settlement)\n",
    "prob_ags_spread_win = (ags_da_filtered['spread'] > 0).mean()\n",
    "print(f'Probability of success for AGS and settlement clearing: {prob_ags_spread_win}')"
   ],
   "id": "61d86646e851981c",
   "outputs": [
    {
     "name": "stdout",
     "output_type": "stream",
     "text": [
      "Probability of success for AGS and settlement clearing: 0.7625\n"
     ]
    }
   ],
   "execution_count": 1118
  },
  {
   "metadata": {
    "ExecuteTime": {
     "end_time": "2025-10-23T19:41:45.834041Z",
     "start_time": "2025-10-23T19:41:45.822042Z"
    }
   },
   "cell_type": "code",
   "source": "ags_da_filtered",
   "id": "b55de1f82d3e019a",
   "outputs": [
    {
     "data": {
      "text/plain": [
       "       flowdate       id buysell status                 timestamp marketcode  \\\n",
       "1451 2025-01-02  2384052       S      A 2025-01-01 11:55:47+00:00   MGP-ASTA   \n",
       "1452 2025-01-03  2384925       S      A 2025-01-02 12:29:06+00:00   MGP-ASTA   \n",
       "1453 2025-01-04  2386590       S      A 2025-01-03 12:28:51+00:00   MGP-ASTA   \n",
       "1454 2025-01-05  2388116       S      A 2025-01-04 12:00:30+00:00   MGP-ASTA   \n",
       "1455 2025-01-06  2388572       S      A 2025-01-05 12:05:37+00:00   MGP-ASTA   \n",
       "...         ...      ...     ...    ...                       ...        ...   \n",
       "1606 2025-07-17  2606965       S      A 2025-07-16 11:28:14+00:00   MGP-ASTA   \n",
       "1607 2025-07-18  2607961       S      A 2025-07-17 11:29:30+00:00   MGP-ASTA   \n",
       "1608 2025-07-19  2609019       S      A 2025-07-18 11:29:48+00:00   MGP-ASTA   \n",
       "1609 2025-07-20  2610475       S      A 2025-07-19 11:27:39+00:00   MGP-ASTA   \n",
       "1610 2025-07-22  2611813       S      A 2025-07-21 11:29:36+00:00   MGP-ASTA   \n",
       "\n",
       "      quantity   price                operator  settlement_vwap    spread  \n",
       "1451     12960  49.700                 SRG TSO        50.799449 -1.099449  \n",
       "1452       480  50.560    MET INTERNATIONAL AG        50.937345 -0.377345  \n",
       "1453      2400  50.947  DUFERCO Energia S.p.A.        49.582062  1.364938  \n",
       "1454      3456  49.990                 SRG TSO        50.100000 -0.110000  \n",
       "1455      7152  50.860                 SRG TSO        50.400000  0.460000  \n",
       "...        ...     ...                     ...              ...       ...  \n",
       "1606      1200  37.770          ENET ENERGY SA        37.754396  0.015604  \n",
       "1607      1200  38.150            ERTENERGY OÜ        37.813852  0.336148  \n",
       "1608       120  37.320         UTILITA' S.P.A.        36.830379  0.489621  \n",
       "1609      7200  36.940          MFT ENERGY A/S        36.700000  0.240000  \n",
       "1610      6432  37.860          BKW ENERGIE AG        37.683842  0.176158  \n",
       "\n",
       "[160 rows x 11 columns]"
      ],
      "text/html": [
       "<div>\n",
       "<style scoped>\n",
       "    .dataframe tbody tr th:only-of-type {\n",
       "        vertical-align: middle;\n",
       "    }\n",
       "\n",
       "    .dataframe tbody tr th {\n",
       "        vertical-align: top;\n",
       "    }\n",
       "\n",
       "    .dataframe thead th {\n",
       "        text-align: right;\n",
       "    }\n",
       "</style>\n",
       "<table border=\"1\" class=\"dataframe\">\n",
       "  <thead>\n",
       "    <tr style=\"text-align: right;\">\n",
       "      <th></th>\n",
       "      <th>flowdate</th>\n",
       "      <th>id</th>\n",
       "      <th>buysell</th>\n",
       "      <th>status</th>\n",
       "      <th>timestamp</th>\n",
       "      <th>marketcode</th>\n",
       "      <th>quantity</th>\n",
       "      <th>price</th>\n",
       "      <th>operator</th>\n",
       "      <th>settlement_vwap</th>\n",
       "      <th>spread</th>\n",
       "    </tr>\n",
       "  </thead>\n",
       "  <tbody>\n",
       "    <tr>\n",
       "      <th>1451</th>\n",
       "      <td>2025-01-02</td>\n",
       "      <td>2384052</td>\n",
       "      <td>S</td>\n",
       "      <td>A</td>\n",
       "      <td>2025-01-01 11:55:47+00:00</td>\n",
       "      <td>MGP-ASTA</td>\n",
       "      <td>12960</td>\n",
       "      <td>49.700</td>\n",
       "      <td>SRG TSO</td>\n",
       "      <td>50.799449</td>\n",
       "      <td>-1.099449</td>\n",
       "    </tr>\n",
       "    <tr>\n",
       "      <th>1452</th>\n",
       "      <td>2025-01-03</td>\n",
       "      <td>2384925</td>\n",
       "      <td>S</td>\n",
       "      <td>A</td>\n",
       "      <td>2025-01-02 12:29:06+00:00</td>\n",
       "      <td>MGP-ASTA</td>\n",
       "      <td>480</td>\n",
       "      <td>50.560</td>\n",
       "      <td>MET INTERNATIONAL AG</td>\n",
       "      <td>50.937345</td>\n",
       "      <td>-0.377345</td>\n",
       "    </tr>\n",
       "    <tr>\n",
       "      <th>1453</th>\n",
       "      <td>2025-01-04</td>\n",
       "      <td>2386590</td>\n",
       "      <td>S</td>\n",
       "      <td>A</td>\n",
       "      <td>2025-01-03 12:28:51+00:00</td>\n",
       "      <td>MGP-ASTA</td>\n",
       "      <td>2400</td>\n",
       "      <td>50.947</td>\n",
       "      <td>DUFERCO Energia S.p.A.</td>\n",
       "      <td>49.582062</td>\n",
       "      <td>1.364938</td>\n",
       "    </tr>\n",
       "    <tr>\n",
       "      <th>1454</th>\n",
       "      <td>2025-01-05</td>\n",
       "      <td>2388116</td>\n",
       "      <td>S</td>\n",
       "      <td>A</td>\n",
       "      <td>2025-01-04 12:00:30+00:00</td>\n",
       "      <td>MGP-ASTA</td>\n",
       "      <td>3456</td>\n",
       "      <td>49.990</td>\n",
       "      <td>SRG TSO</td>\n",
       "      <td>50.100000</td>\n",
       "      <td>-0.110000</td>\n",
       "    </tr>\n",
       "    <tr>\n",
       "      <th>1455</th>\n",
       "      <td>2025-01-06</td>\n",
       "      <td>2388572</td>\n",
       "      <td>S</td>\n",
       "      <td>A</td>\n",
       "      <td>2025-01-05 12:05:37+00:00</td>\n",
       "      <td>MGP-ASTA</td>\n",
       "      <td>7152</td>\n",
       "      <td>50.860</td>\n",
       "      <td>SRG TSO</td>\n",
       "      <td>50.400000</td>\n",
       "      <td>0.460000</td>\n",
       "    </tr>\n",
       "    <tr>\n",
       "      <th>...</th>\n",
       "      <td>...</td>\n",
       "      <td>...</td>\n",
       "      <td>...</td>\n",
       "      <td>...</td>\n",
       "      <td>...</td>\n",
       "      <td>...</td>\n",
       "      <td>...</td>\n",
       "      <td>...</td>\n",
       "      <td>...</td>\n",
       "      <td>...</td>\n",
       "      <td>...</td>\n",
       "    </tr>\n",
       "    <tr>\n",
       "      <th>1606</th>\n",
       "      <td>2025-07-17</td>\n",
       "      <td>2606965</td>\n",
       "      <td>S</td>\n",
       "      <td>A</td>\n",
       "      <td>2025-07-16 11:28:14+00:00</td>\n",
       "      <td>MGP-ASTA</td>\n",
       "      <td>1200</td>\n",
       "      <td>37.770</td>\n",
       "      <td>ENET ENERGY SA</td>\n",
       "      <td>37.754396</td>\n",
       "      <td>0.015604</td>\n",
       "    </tr>\n",
       "    <tr>\n",
       "      <th>1607</th>\n",
       "      <td>2025-07-18</td>\n",
       "      <td>2607961</td>\n",
       "      <td>S</td>\n",
       "      <td>A</td>\n",
       "      <td>2025-07-17 11:29:30+00:00</td>\n",
       "      <td>MGP-ASTA</td>\n",
       "      <td>1200</td>\n",
       "      <td>38.150</td>\n",
       "      <td>ERTENERGY OÜ</td>\n",
       "      <td>37.813852</td>\n",
       "      <td>0.336148</td>\n",
       "    </tr>\n",
       "    <tr>\n",
       "      <th>1608</th>\n",
       "      <td>2025-07-19</td>\n",
       "      <td>2609019</td>\n",
       "      <td>S</td>\n",
       "      <td>A</td>\n",
       "      <td>2025-07-18 11:29:48+00:00</td>\n",
       "      <td>MGP-ASTA</td>\n",
       "      <td>120</td>\n",
       "      <td>37.320</td>\n",
       "      <td>UTILITA' S.P.A.</td>\n",
       "      <td>36.830379</td>\n",
       "      <td>0.489621</td>\n",
       "    </tr>\n",
       "    <tr>\n",
       "      <th>1609</th>\n",
       "      <td>2025-07-20</td>\n",
       "      <td>2610475</td>\n",
       "      <td>S</td>\n",
       "      <td>A</td>\n",
       "      <td>2025-07-19 11:27:39+00:00</td>\n",
       "      <td>MGP-ASTA</td>\n",
       "      <td>7200</td>\n",
       "      <td>36.940</td>\n",
       "      <td>MFT ENERGY A/S</td>\n",
       "      <td>36.700000</td>\n",
       "      <td>0.240000</td>\n",
       "    </tr>\n",
       "    <tr>\n",
       "      <th>1610</th>\n",
       "      <td>2025-07-22</td>\n",
       "      <td>2611813</td>\n",
       "      <td>S</td>\n",
       "      <td>A</td>\n",
       "      <td>2025-07-21 11:29:36+00:00</td>\n",
       "      <td>MGP-ASTA</td>\n",
       "      <td>6432</td>\n",
       "      <td>37.860</td>\n",
       "      <td>BKW ENERGIE AG</td>\n",
       "      <td>37.683842</td>\n",
       "      <td>0.176158</td>\n",
       "    </tr>\n",
       "  </tbody>\n",
       "</table>\n",
       "<p>160 rows × 11 columns</p>\n",
       "</div>"
      ]
     },
     "execution_count": 1119,
     "metadata": {},
     "output_type": "execute_result"
    }
   ],
   "execution_count": 1119
  },
  {
   "metadata": {
    "ExecuteTime": {
     "end_time": "2025-10-23T19:41:45.865269Z",
     "start_time": "2025-10-23T19:41:45.844041Z"
    }
   },
   "cell_type": "code",
   "source": [
    "# Lets try to build a correlation of AGS spread with 30d rolling volatility\n",
    "\n",
    "# 0. Get daily 30d rolling volatility\n",
    "# Assume 10 holidays per year for trading -> 355 days\n",
    "vol_daily_30d = returns.rolling(window=30).std() * np.sqrt(355)\n",
    "vol_daily_30d = vol_daily_30d.resample('D').mean()\n",
    "vol_daily_30d.index = pd.to_datetime(vol_daily_30d.index, utc=True)\n",
    "vol_daily_30d.index = vol_daily_30d.index.date\n",
    "\n",
    "# 1. Add vol to a dataframe with the spread\n",
    "correl_ags_spread = ags_da_filtered.copy()\n",
    "correl_ags_spread = correl_ags_spread.set_index(\"flowdate\")\n",
    "correl_ags_spread[\"vol_30d\"] = vol_daily_30d\n",
    "\n",
    "# 2 Get log transform of spread\n",
    "correl_ags_spread[\"spread_log\"] = correl_ags_spread[\"spread\"].apply(np.arcsinh)\n",
    "\n",
    "# 2. Drop if any value has NA\n",
    "correl_ags_spread = correl_ags_spread.dropna(how='any')"
   ],
   "id": "7f160a019cca7c9d",
   "outputs": [],
   "execution_count": 1120
  },
  {
   "metadata": {
    "ExecuteTime": {
     "end_time": "2025-10-23T19:41:45.881272Z",
     "start_time": "2025-10-23T19:41:45.870274Z"
    }
   },
   "cell_type": "code",
   "source": "correl_ags_spread",
   "id": "240093a1f10752b5",
   "outputs": [
    {
     "data": {
      "text/plain": [
       "                 id buysell status                 timestamp marketcode  \\\n",
       "flowdate                                                                  \n",
       "2025-01-02  2384052       S      A 2025-01-01 11:55:47+00:00   MGP-ASTA   \n",
       "2025-01-03  2384925       S      A 2025-01-02 12:29:06+00:00   MGP-ASTA   \n",
       "2025-01-04  2386590       S      A 2025-01-03 12:28:51+00:00   MGP-ASTA   \n",
       "2025-01-05  2388116       S      A 2025-01-04 12:00:30+00:00   MGP-ASTA   \n",
       "2025-01-06  2388572       S      A 2025-01-05 12:05:37+00:00   MGP-ASTA   \n",
       "...             ...     ...    ...                       ...        ...   \n",
       "2025-07-16  2605793       S      A 2025-07-15 11:29:51+00:00   MGP-ASTA   \n",
       "2025-07-17  2606965       S      A 2025-07-16 11:28:14+00:00   MGP-ASTA   \n",
       "2025-07-18  2607961       S      A 2025-07-17 11:29:30+00:00   MGP-ASTA   \n",
       "2025-07-19  2609019       S      A 2025-07-18 11:29:48+00:00   MGP-ASTA   \n",
       "2025-07-20  2610475       S      A 2025-07-19 11:27:39+00:00   MGP-ASTA   \n",
       "\n",
       "            quantity   price                operator  settlement_vwap  \\\n",
       "flowdate                                                                \n",
       "2025-01-02     12960  49.700                 SRG TSO        50.799449   \n",
       "2025-01-03       480  50.560    MET INTERNATIONAL AG        50.937345   \n",
       "2025-01-04      2400  50.947  DUFERCO Energia S.p.A.        49.582062   \n",
       "2025-01-05      3456  49.990                 SRG TSO        50.100000   \n",
       "2025-01-06      7152  50.860                 SRG TSO        50.400000   \n",
       "...              ...     ...                     ...              ...   \n",
       "2025-07-16       240  38.390         UTILITA' S.P.A.        37.825883   \n",
       "2025-07-17      1200  37.770          ENET ENERGY SA        37.754396   \n",
       "2025-07-18      1200  38.150            ERTENERGY OÜ        37.813852   \n",
       "2025-07-19       120  37.320         UTILITA' S.P.A.        36.830379   \n",
       "2025-07-20      7200  36.940          MFT ENERGY A/S        36.700000   \n",
       "\n",
       "              spread   vol_30d  spread_log  \n",
       "flowdate                                    \n",
       "2025-01-02 -1.099449  0.047139   -0.949976  \n",
       "2025-01-03 -0.377345  0.064693   -0.368919  \n",
       "2025-01-04  1.364938  0.064787    1.117432  \n",
       "2025-01-05 -0.110000  0.076949   -0.109779  \n",
       "2025-01-06  0.460000  0.119354    0.445152  \n",
       "...              ...       ...         ...  \n",
       "2025-07-16  0.564117  0.070034    0.537813  \n",
       "2025-07-17  0.015604  0.104562    0.015604  \n",
       "2025-07-18  0.336148  0.178225    0.330119  \n",
       "2025-07-19  0.489621  0.325875    0.471910  \n",
       "2025-07-20  0.240000  0.337179    0.237754  \n",
       "\n",
       "[159 rows x 12 columns]"
      ],
      "text/html": [
       "<div>\n",
       "<style scoped>\n",
       "    .dataframe tbody tr th:only-of-type {\n",
       "        vertical-align: middle;\n",
       "    }\n",
       "\n",
       "    .dataframe tbody tr th {\n",
       "        vertical-align: top;\n",
       "    }\n",
       "\n",
       "    .dataframe thead th {\n",
       "        text-align: right;\n",
       "    }\n",
       "</style>\n",
       "<table border=\"1\" class=\"dataframe\">\n",
       "  <thead>\n",
       "    <tr style=\"text-align: right;\">\n",
       "      <th></th>\n",
       "      <th>id</th>\n",
       "      <th>buysell</th>\n",
       "      <th>status</th>\n",
       "      <th>timestamp</th>\n",
       "      <th>marketcode</th>\n",
       "      <th>quantity</th>\n",
       "      <th>price</th>\n",
       "      <th>operator</th>\n",
       "      <th>settlement_vwap</th>\n",
       "      <th>spread</th>\n",
       "      <th>vol_30d</th>\n",
       "      <th>spread_log</th>\n",
       "    </tr>\n",
       "    <tr>\n",
       "      <th>flowdate</th>\n",
       "      <th></th>\n",
       "      <th></th>\n",
       "      <th></th>\n",
       "      <th></th>\n",
       "      <th></th>\n",
       "      <th></th>\n",
       "      <th></th>\n",
       "      <th></th>\n",
       "      <th></th>\n",
       "      <th></th>\n",
       "      <th></th>\n",
       "      <th></th>\n",
       "    </tr>\n",
       "  </thead>\n",
       "  <tbody>\n",
       "    <tr>\n",
       "      <th>2025-01-02</th>\n",
       "      <td>2384052</td>\n",
       "      <td>S</td>\n",
       "      <td>A</td>\n",
       "      <td>2025-01-01 11:55:47+00:00</td>\n",
       "      <td>MGP-ASTA</td>\n",
       "      <td>12960</td>\n",
       "      <td>49.700</td>\n",
       "      <td>SRG TSO</td>\n",
       "      <td>50.799449</td>\n",
       "      <td>-1.099449</td>\n",
       "      <td>0.047139</td>\n",
       "      <td>-0.949976</td>\n",
       "    </tr>\n",
       "    <tr>\n",
       "      <th>2025-01-03</th>\n",
       "      <td>2384925</td>\n",
       "      <td>S</td>\n",
       "      <td>A</td>\n",
       "      <td>2025-01-02 12:29:06+00:00</td>\n",
       "      <td>MGP-ASTA</td>\n",
       "      <td>480</td>\n",
       "      <td>50.560</td>\n",
       "      <td>MET INTERNATIONAL AG</td>\n",
       "      <td>50.937345</td>\n",
       "      <td>-0.377345</td>\n",
       "      <td>0.064693</td>\n",
       "      <td>-0.368919</td>\n",
       "    </tr>\n",
       "    <tr>\n",
       "      <th>2025-01-04</th>\n",
       "      <td>2386590</td>\n",
       "      <td>S</td>\n",
       "      <td>A</td>\n",
       "      <td>2025-01-03 12:28:51+00:00</td>\n",
       "      <td>MGP-ASTA</td>\n",
       "      <td>2400</td>\n",
       "      <td>50.947</td>\n",
       "      <td>DUFERCO Energia S.p.A.</td>\n",
       "      <td>49.582062</td>\n",
       "      <td>1.364938</td>\n",
       "      <td>0.064787</td>\n",
       "      <td>1.117432</td>\n",
       "    </tr>\n",
       "    <tr>\n",
       "      <th>2025-01-05</th>\n",
       "      <td>2388116</td>\n",
       "      <td>S</td>\n",
       "      <td>A</td>\n",
       "      <td>2025-01-04 12:00:30+00:00</td>\n",
       "      <td>MGP-ASTA</td>\n",
       "      <td>3456</td>\n",
       "      <td>49.990</td>\n",
       "      <td>SRG TSO</td>\n",
       "      <td>50.100000</td>\n",
       "      <td>-0.110000</td>\n",
       "      <td>0.076949</td>\n",
       "      <td>-0.109779</td>\n",
       "    </tr>\n",
       "    <tr>\n",
       "      <th>2025-01-06</th>\n",
       "      <td>2388572</td>\n",
       "      <td>S</td>\n",
       "      <td>A</td>\n",
       "      <td>2025-01-05 12:05:37+00:00</td>\n",
       "      <td>MGP-ASTA</td>\n",
       "      <td>7152</td>\n",
       "      <td>50.860</td>\n",
       "      <td>SRG TSO</td>\n",
       "      <td>50.400000</td>\n",
       "      <td>0.460000</td>\n",
       "      <td>0.119354</td>\n",
       "      <td>0.445152</td>\n",
       "    </tr>\n",
       "    <tr>\n",
       "      <th>...</th>\n",
       "      <td>...</td>\n",
       "      <td>...</td>\n",
       "      <td>...</td>\n",
       "      <td>...</td>\n",
       "      <td>...</td>\n",
       "      <td>...</td>\n",
       "      <td>...</td>\n",
       "      <td>...</td>\n",
       "      <td>...</td>\n",
       "      <td>...</td>\n",
       "      <td>...</td>\n",
       "      <td>...</td>\n",
       "    </tr>\n",
       "    <tr>\n",
       "      <th>2025-07-16</th>\n",
       "      <td>2605793</td>\n",
       "      <td>S</td>\n",
       "      <td>A</td>\n",
       "      <td>2025-07-15 11:29:51+00:00</td>\n",
       "      <td>MGP-ASTA</td>\n",
       "      <td>240</td>\n",
       "      <td>38.390</td>\n",
       "      <td>UTILITA' S.P.A.</td>\n",
       "      <td>37.825883</td>\n",
       "      <td>0.564117</td>\n",
       "      <td>0.070034</td>\n",
       "      <td>0.537813</td>\n",
       "    </tr>\n",
       "    <tr>\n",
       "      <th>2025-07-17</th>\n",
       "      <td>2606965</td>\n",
       "      <td>S</td>\n",
       "      <td>A</td>\n",
       "      <td>2025-07-16 11:28:14+00:00</td>\n",
       "      <td>MGP-ASTA</td>\n",
       "      <td>1200</td>\n",
       "      <td>37.770</td>\n",
       "      <td>ENET ENERGY SA</td>\n",
       "      <td>37.754396</td>\n",
       "      <td>0.015604</td>\n",
       "      <td>0.104562</td>\n",
       "      <td>0.015604</td>\n",
       "    </tr>\n",
       "    <tr>\n",
       "      <th>2025-07-18</th>\n",
       "      <td>2607961</td>\n",
       "      <td>S</td>\n",
       "      <td>A</td>\n",
       "      <td>2025-07-17 11:29:30+00:00</td>\n",
       "      <td>MGP-ASTA</td>\n",
       "      <td>1200</td>\n",
       "      <td>38.150</td>\n",
       "      <td>ERTENERGY OÜ</td>\n",
       "      <td>37.813852</td>\n",
       "      <td>0.336148</td>\n",
       "      <td>0.178225</td>\n",
       "      <td>0.330119</td>\n",
       "    </tr>\n",
       "    <tr>\n",
       "      <th>2025-07-19</th>\n",
       "      <td>2609019</td>\n",
       "      <td>S</td>\n",
       "      <td>A</td>\n",
       "      <td>2025-07-18 11:29:48+00:00</td>\n",
       "      <td>MGP-ASTA</td>\n",
       "      <td>120</td>\n",
       "      <td>37.320</td>\n",
       "      <td>UTILITA' S.P.A.</td>\n",
       "      <td>36.830379</td>\n",
       "      <td>0.489621</td>\n",
       "      <td>0.325875</td>\n",
       "      <td>0.471910</td>\n",
       "    </tr>\n",
       "    <tr>\n",
       "      <th>2025-07-20</th>\n",
       "      <td>2610475</td>\n",
       "      <td>S</td>\n",
       "      <td>A</td>\n",
       "      <td>2025-07-19 11:27:39+00:00</td>\n",
       "      <td>MGP-ASTA</td>\n",
       "      <td>7200</td>\n",
       "      <td>36.940</td>\n",
       "      <td>MFT ENERGY A/S</td>\n",
       "      <td>36.700000</td>\n",
       "      <td>0.240000</td>\n",
       "      <td>0.337179</td>\n",
       "      <td>0.237754</td>\n",
       "    </tr>\n",
       "  </tbody>\n",
       "</table>\n",
       "<p>159 rows × 12 columns</p>\n",
       "</div>"
      ]
     },
     "execution_count": 1121,
     "metadata": {},
     "output_type": "execute_result"
    }
   ],
   "execution_count": 1121
  },
  {
   "metadata": {
    "ExecuteTime": {
     "end_time": "2025-10-23T19:41:47.512747Z",
     "start_time": "2025-10-23T19:41:45.893900Z"
    }
   },
   "cell_type": "code",
   "source": "sns.regplot(correl_ags_spread, x=\"vol_30d\", y=\"spread_log\", robust=True)",
   "id": "2b5901e76f45dd26",
   "outputs": [
    {
     "data": {
      "text/plain": [
       "<Axes: xlabel='vol_30d', ylabel='spread_log'>"
      ]
     },
     "execution_count": 1122,
     "metadata": {},
     "output_type": "execute_result"
    },
    {
     "data": {
      "text/plain": [
       "<Figure size 640x480 with 1 Axes>"
      ],
      "image/png": "[encoded data removed]"
     },
     "metadata": {},
     "output_type": "display_data",
     "jetTransient": {
      "display_id": null
     }
    }
   ],
   "execution_count": 1122
  },
  {
   "metadata": {
    "ExecuteTime": {
     "end_time": "2025-10-23T19:41:47.527964Z",
     "start_time": "2025-10-23T19:41:47.515748Z"
    }
   },
   "cell_type": "code",
   "source": "DATELIMIT = pd.to_datetime(\"2017-01-01\").date()",
   "id": "2291923e3ec9838b",
   "outputs": [],
   "execution_count": 1123
  },
  {
   "metadata": {
    "ExecuteTime": {
     "end_time": "2025-10-23T19:41:50.976460Z",
     "start_time": "2025-10-23T19:41:47.530966Z"
    }
   },
   "cell_type": "code",
   "source": [
    "# Lets pull balancing data\n",
    "snam = client.query_df(\"SELECT * FROM balancing.snam\")"
   ],
   "id": "7faffbf998acb3b",
   "outputs": [],
   "execution_count": 1124
  },
  {
   "metadata": {
    "ExecuteTime": {
     "end_time": "2025-10-23T19:41:51.008234Z",
     "start_time": "2025-10-23T19:41:50.976460Z"
    }
   },
   "cell_type": "code",
   "source": [
    "snam[\"date\"] = pd.to_datetime(snam[\"date\"], utc=True)\n",
    "# Only include 2020 and further as that's where AGS provisional Y data started being reported\n",
    "snam_filtered = snam[snam[\"date\"].dt.date > DATELIMIT]"
   ],
   "id": "3370174f79fc4e09",
   "outputs": [],
   "execution_count": 1125
  },
  {
   "metadata": {
    "ExecuteTime": {
     "end_time": "2025-10-23T19:41:51.026822Z",
     "start_time": "2025-10-23T19:41:51.010849Z"
    }
   },
   "cell_type": "code",
   "source": [
    "snam_cols = [\"date\", \"da_y_provisional\", \"da_degree_days\", \"da_sas_imbalance\", \"wd_degree_days\"]\n",
    "\n",
    "# now we need to filter out the zeros in da_y_provisional\n",
    "snam_filtered = snam_filtered[snam_filtered[\"da_y_provisional\"] != 0]\n",
    "\n",
    "# Filter by dates and take the latest value for da_y_provisional\n",
    "snam_filtered = snam_filtered[snam_cols].groupby(\"date\").last()"
   ],
   "id": "6ff597c055304edb",
   "outputs": [],
   "execution_count": 1126
  },
  {
   "metadata": {
    "ExecuteTime": {
     "end_time": "2025-10-23T19:41:51.057461Z",
     "start_time": "2025-10-23T19:41:51.027286Z"
    }
   },
   "cell_type": "code",
   "source": "correl_ags_spread = correl_ags_spread.set_index(\"flowdate\")",
   "id": "f64efa41ad8ae15d",
   "outputs": [
    {
     "ename": "KeyError",
     "evalue": "\"None of ['flowdate'] are in the columns\"",
     "output_type": "error",
     "traceback": [
      "\u001B[1;31m---------------------------------------------------------------------------\u001B[0m",
      "\u001B[1;31mKeyError\u001B[0m                                  Traceback (most recent call last)",
      "\u001B[1;32m~\\AppData\\Local\\Temp\\ipykernel_287568\\2678313583.py\u001B[0m in \u001B[0;36m?\u001B[1;34m()\u001B[0m\n\u001B[1;32m----> 1\u001B[1;33m \u001B[0mcorrel_ags_spread\u001B[0m \u001B[1;33m=\u001B[0m \u001B[0mcorrel_ags_spread\u001B[0m\u001B[1;33m.\u001B[0m\u001B[0mset_index\u001B[0m\u001B[1;33m(\u001B[0m\u001B[1;34m\"flowdate\"\u001B[0m\u001B[1;33m)\u001B[0m\u001B[1;33m\u001B[0m\u001B[1;33m\u001B[0m\u001B[0m\n\u001B[0m",
      "\u001B[1;32m~\\Desktop\\ieso\\venv\\lib\\site-packages\\pandas\\core\\frame.py\u001B[0m in \u001B[0;36m?\u001B[1;34m(self, keys, drop, append, inplace, verify_integrity)\u001B[0m\n\u001B[0;32m   6140\u001B[0m                     \u001B[1;32mif\u001B[0m \u001B[1;32mnot\u001B[0m \u001B[0mfound\u001B[0m\u001B[1;33m:\u001B[0m\u001B[1;33m\u001B[0m\u001B[1;33m\u001B[0m\u001B[0m\n\u001B[0;32m   6141\u001B[0m                         \u001B[0mmissing\u001B[0m\u001B[1;33m.\u001B[0m\u001B[0mappend\u001B[0m\u001B[1;33m(\u001B[0m\u001B[0mcol\u001B[0m\u001B[1;33m)\u001B[0m\u001B[1;33m\u001B[0m\u001B[1;33m\u001B[0m\u001B[0m\n\u001B[0;32m   6142\u001B[0m \u001B[1;33m\u001B[0m\u001B[0m\n\u001B[0;32m   6143\u001B[0m         \u001B[1;32mif\u001B[0m \u001B[0mmissing\u001B[0m\u001B[1;33m:\u001B[0m\u001B[1;33m\u001B[0m\u001B[1;33m\u001B[0m\u001B[0m\n\u001B[1;32m-> 6144\u001B[1;33m             \u001B[1;32mraise\u001B[0m \u001B[0mKeyError\u001B[0m\u001B[1;33m(\u001B[0m\u001B[1;34mf\"None of {missing} are in the columns\"\u001B[0m\u001B[1;33m)\u001B[0m\u001B[1;33m\u001B[0m\u001B[1;33m\u001B[0m\u001B[0m\n\u001B[0m\u001B[0;32m   6145\u001B[0m \u001B[1;33m\u001B[0m\u001B[0m\n\u001B[0;32m   6146\u001B[0m         \u001B[1;32mif\u001B[0m \u001B[0minplace\u001B[0m\u001B[1;33m:\u001B[0m\u001B[1;33m\u001B[0m\u001B[1;33m\u001B[0m\u001B[0m\n\u001B[0;32m   6147\u001B[0m             \u001B[0mframe\u001B[0m \u001B[1;33m=\u001B[0m \u001B[0mself\u001B[0m\u001B[1;33m\u001B[0m\u001B[1;33m\u001B[0m\u001B[0m\n",
      "\u001B[1;31mKeyError\u001B[0m: \"None of ['flowdate'] are in the columns\""
     ]
    }
   ],
   "execution_count": 1127
  },
  {
   "metadata": {
    "ExecuteTime": {
     "end_time": "2025-10-23T19:41:51.059462900Z",
     "start_time": "2025-10-23T19:33:05.910100Z"
    }
   },
   "cell_type": "code",
   "source": [
    "snam_filtered_joined = snam_filtered.copy()\n",
    "snam_filtered_joined.reset_index()\n",
    "\n",
    "snam_filtered_joined[\"flowdate\"] = snam_filtered_joined.index + pd.to_timedelta(1, unit='D')\n",
    "snam_filtered_joined[\"flowdate\"] = pd.to_datetime(snam_filtered_joined[\"flowdate\"], format='%Y-%m-%d').dt.tz_localize(None)\n",
    "snam_filtered_joined = snam_filtered_joined.set_index(\"flowdate\")\n",
    "snam_filtered_joined"
   ],
   "id": "ef1e66b3bc26ffc5",
   "outputs": [
    {
     "data": {
      "text/plain": [
       "            da_y_provisional da_degree_days  da_sas_imbalance wd_degree_days\n",
       "flowdate                                                                    \n",
       "2020-01-01       117629.3837         11.700               0.0         13.000\n",
       "2020-01-02        30768.0000         12.400               0.0         11.500\n",
       "2020-01-03        30744.0000         11.400               0.0         12.200\n",
       "2020-01-04       -23760.0000         10.800               0.0         11.500\n",
       "2020-01-05       -36288.0000         11.200               0.0         11.000\n",
       "...                      ...            ...               ...            ...\n",
       "2025-10-20       -68352.0000          4.055               0.0          3.360\n",
       "2025-10-21        -8496.0000          4.441               0.0          3.811\n",
       "2025-10-22         4104.0000          3.686               0.0          4.363\n",
       "2025-10-23        44088.0000          3.698               0.0          4.204\n",
       "2025-10-24        36624.0000          4.095               0.0          2.846\n",
       "\n",
       "[2123 rows x 4 columns]"
      ],
      "text/html": [
       "<div>\n",
       "<style scoped>\n",
       "    .dataframe tbody tr th:only-of-type {\n",
       "        vertical-align: middle;\n",
       "    }\n",
       "\n",
       "    .dataframe tbody tr th {\n",
       "        vertical-align: top;\n",
       "    }\n",
       "\n",
       "    .dataframe thead th {\n",
       "        text-align: right;\n",
       "    }\n",
       "</style>\n",
       "<table border=\"1\" class=\"dataframe\">\n",
       "  <thead>\n",
       "    <tr style=\"text-align: right;\">\n",
       "      <th></th>\n",
       "      <th>da_y_provisional</th>\n",
       "      <th>da_degree_days</th>\n",
       "      <th>da_sas_imbalance</th>\n",
       "      <th>wd_degree_days</th>\n",
       "    </tr>\n",
       "    <tr>\n",
       "      <th>flowdate</th>\n",
       "      <th></th>\n",
       "      <th></th>\n",
       "      <th></th>\n",
       "      <th></th>\n",
       "    </tr>\n",
       "  </thead>\n",
       "  <tbody>\n",
       "    <tr>\n",
       "      <th>2020-01-01</th>\n",
       "      <td>117629.3837</td>\n",
       "      <td>11.700</td>\n",
       "      <td>0.0</td>\n",
       "      <td>13.000</td>\n",
       "    </tr>\n",
       "    <tr>\n",
       "      <th>2020-01-02</th>\n",
       "      <td>30768.0000</td>\n",
       "      <td>12.400</td>\n",
       "      <td>0.0</td>\n",
       "      <td>11.500</td>\n",
       "    </tr>\n",
       "    <tr>\n",
       "      <th>2020-01-03</th>\n",
       "      <td>30744.0000</td>\n",
       "      <td>11.400</td>\n",
       "      <td>0.0</td>\n",
       "      <td>12.200</td>\n",
       "    </tr>\n",
       "    <tr>\n",
       "      <th>2020-01-04</th>\n",
       "      <td>-23760.0000</td>\n",
       "      <td>10.800</td>\n",
       "      <td>0.0</td>\n",
       "      <td>11.500</td>\n",
       "    </tr>\n",
       "    <tr>\n",
       "      <th>2020-01-05</th>\n",
       "      <td>-36288.0000</td>\n",
       "      <td>11.200</td>\n",
       "      <td>0.0</td>\n",
       "      <td>11.000</td>\n",
       "    </tr>\n",
       "    <tr>\n",
       "      <th>...</th>\n",
       "      <td>...</td>\n",
       "      <td>...</td>\n",
       "      <td>...</td>\n",
       "      <td>...</td>\n",
       "    </tr>\n",
       "    <tr>\n",
       "      <th>2025-10-20</th>\n",
       "      <td>-68352.0000</td>\n",
       "      <td>4.055</td>\n",
       "      <td>0.0</td>\n",
       "      <td>3.360</td>\n",
       "    </tr>\n",
       "    <tr>\n",
       "      <th>2025-10-21</th>\n",
       "      <td>-8496.0000</td>\n",
       "      <td>4.441</td>\n",
       "      <td>0.0</td>\n",
       "      <td>3.811</td>\n",
       "    </tr>\n",
       "    <tr>\n",
       "      <th>2025-10-22</th>\n",
       "      <td>4104.0000</td>\n",
       "      <td>3.686</td>\n",
       "      <td>0.0</td>\n",
       "      <td>4.363</td>\n",
       "    </tr>\n",
       "    <tr>\n",
       "      <th>2025-10-23</th>\n",
       "      <td>44088.0000</td>\n",
       "      <td>3.698</td>\n",
       "      <td>0.0</td>\n",
       "      <td>4.204</td>\n",
       "    </tr>\n",
       "    <tr>\n",
       "      <th>2025-10-24</th>\n",
       "      <td>36624.0000</td>\n",
       "      <td>4.095</td>\n",
       "      <td>0.0</td>\n",
       "      <td>2.846</td>\n",
       "    </tr>\n",
       "  </tbody>\n",
       "</table>\n",
       "<p>2123 rows × 4 columns</p>\n",
       "</div>"
      ]
     },
     "execution_count": 1016,
     "metadata": {},
     "output_type": "execute_result"
    }
   ],
   "execution_count": 1016
  },
  {
   "metadata": {
    "ExecuteTime": {
     "end_time": "2025-10-23T19:41:51.060463400Z",
     "start_time": "2025-10-23T19:34:19.842519Z"
    }
   },
   "cell_type": "code",
   "source": [
    "snam_filtered_joined = snam_filtered_joined.reset_index()\n",
    "correl_ags_spread = correl_ags_spread.reset_index()"
   ],
   "id": "ebcf79631a74da56",
   "outputs": [],
   "execution_count": 1017
  },
  {
   "metadata": {
    "ExecuteTime": {
     "end_time": "2025-10-23T19:41:51.060463400Z",
     "start_time": "2025-10-23T19:41:21.958768Z"
    }
   },
   "cell_type": "code",
   "source": "snam_filtered_joined = snam_filtered_joined.merge(correl_ags_spread.reset_index(), on=\"flowdate\", suffixes=('', '_ags'))",
   "id": "989cbe1830bc12c8",
   "outputs": [],
   "execution_count": 1094
  },
  {
   "metadata": {
    "ExecuteTime": {
     "end_time": "2025-10-23T19:42:21.244675Z",
     "start_time": "2025-10-23T19:42:21.237673Z"
    }
   },
   "cell_type": "code",
   "source": [
    "cols = ['da_y_provisional', 'da_degree_days', 'da_sas_imbalance', 'wd_degree_days', 'vol_30d', 'spread_log']\n",
    "snam_filtered_joined = snam_filtered_joined[cols]"
   ],
   "id": "34d20d74081f98ff",
   "outputs": [],
   "execution_count": 1129
  },
  {
   "metadata": {
    "ExecuteTime": {
     "end_time": "2025-10-23T19:42:22.393720Z",
     "start_time": "2025-10-23T19:42:22.272640Z"
    }
   },
   "cell_type": "code",
   "source": "sns.heatmap(snam_filtered_joined.corr(), annot=True)",
   "id": "b45cb0a0996bff80",
   "outputs": [
    {
     "data": {
      "text/plain": [
       "<Axes: >"
      ]
     },
     "execution_count": 1130,
     "metadata": {},
     "output_type": "execute_result"
    },
    {
     "data": {
      "text/plain": [
       "<Figure size 640x480 with 2 Axes>"
      ],
      "image/png": "[encoded data removed]"
     },
     "metadata": {},
     "output_type": "display_data",
     "jetTransient": {
      "display_id": null
     }
    }
   ],
   "execution_count": 1130
  },
  {
   "metadata": {},
   "cell_type": "code",
   "outputs": [],
   "execution_count": null,
   "source": "",
   "id": "cf665f578dc6b74"
  }
 ],
 "metadata": {
  "kernelspec": {
   "display_name": "Python 3",
   "language": "python",
   "name": "python3"
  },
  "language_info": {
   "codemirror_mode": {
    "name": "ipython",
    "version": 2
   },
   "file_extension": ".py",
   "mimetype": "text/x-python",
   "name": "python",
   "nbconvert_exporter": "python",
   "pygments_lexer": "ipython2",
   "version": "2.7.6"
  }
 },
 "nbformat": 4,
 "nbformat_minor": 5
}
